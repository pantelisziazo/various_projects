{
  "nbformat": 4,
  "nbformat_minor": 0,
  "metadata": {
    "colab": {
      "name": "Named Entity Recognition - English CONLL 2003.ipynb",
      "provenance": [],
      "collapsed_sections": [],
      "authorship_tag": "ABX9TyMBsytbJnith7G9wCnhsqHV",
      "include_colab_link": true
    },
    "kernelspec": {
      "name": "python3",
      "display_name": "Python 3"
    },
    "language_info": {
      "name": "python"
    },
    "accelerator": "GPU"
  },
  "cells": [
    {
      "cell_type": "markdown",
      "metadata": {
        "id": "view-in-github",
        "colab_type": "text"
      },
      "source": [
        "<a href=\"https://colab.research.google.com/github/pantelisziazo/various_projects/blob/main/Named_Entity_Recognition_English_CONLL_2003.ipynb\" target=\"_parent\"><img src=\"https://colab.research.google.com/assets/colab-badge.svg\" alt=\"Open In Colab\"/></a>"
      ]
    },
    {
      "cell_type": "markdown",
      "metadata": {
        "id": "huenFNj6PBOP"
      },
      "source": [
        "# Introduction"
      ]
    },
    {
      "cell_type": "markdown",
      "metadata": {
        "id": "Ehvd6qsDYvdd"
      },
      "source": [
        "## In this script I apply Named Entity Recognition (NER) using a BERT-model over the [CoNLL-2003 dataset](https://www.clips.uantwerpen.be/conll2003/ner/). \n",
        "\n",
        "My purpose is to make a script that is *affordable to everyone* : runs quite fast, is easy to read and understandable. That is why I implemented it at Colab, utilizing GPU, added lots of comments and used methods of other people at the thought that they maybe more widely known). \n",
        "\n",
        "#### This dataset is **not** publicly available but anyone who wants to get access can follow the instrustions [here](https://www.clips.uantwerpen.be/conll2003/ner/000README) in order to get permission.\n",
        "\n",
        "In the script that follows I drew ideas from :\n",
        "\n",
        "*   [Named entity recognition with Bert](https://www.depends-on-the-definition.com/named-entity-recognition-with-bert/)\n",
        "*   [Named Entity Recognition and Classification with Scikit-Learn](https://towardsdatascience.com/named-entity-recognition-and-classification-with-scikit-learn-f05372f07ba2)\n",
        "\n",
        "For any question, please contact me through email at **larryziazo@gmail.com** ."
      ]
    },
    {
      "cell_type": "markdown",
      "metadata": {
        "id": "JdD1ueP8TZdf"
      },
      "source": [
        "# Build the appropriate environment and take a first look at the data. \n",
        "\n",
        "The use of GPU is strongly recommended. You can utilize **GPU** runtime **for free** at [Colab](https://colab.research.google.com/)."
      ]
    },
    {
      "cell_type": "code",
      "metadata": {
        "id": "ZtPtmfvCPB8y"
      },
      "source": [
        "import numpy as np\n",
        "import pandas as pd\n",
        "import seaborn as sns\n",
        "import matplotlib.pyplot as plt\n",
        "%matplotlib inline\n",
        "from sklearn.model_selection import train_test_split \n",
        "from sklearn.metrics import f1_score, accuracy_score, classification_report \n",
        "import torch\n",
        "from torch.utils.data import TensorDataset, DataLoader, RandomSampler, SequentialSampler\n",
        "from keras.preprocessing.sequence import pad_sequences\n",
        "!pip install transformers\n",
        "import transformers\n",
        "from transformers import BertForTokenClassification, AdamW, BertTokenizer, BertConfig, get_linear_schedule_with_warmup\n",
        "from tqdm import tqdm, trange"
      ],
      "execution_count": null,
      "outputs": []
    },
    {
      "cell_type": "code",
      "metadata": {
        "id": "t5ZxM6pVUnzn",
        "colab": {
          "base_uri": "https://localhost:8080/",
          "height": 204
        },
        "outputId": "b3cf0d8f-f156-4e72-dc43-9ea5a184ab11"
      },
      "source": [
        "# the names I am going to give at the columns of the dataset\n",
        "column_names = ['words', 'pos', 'syntax', 'entity']\n",
        "# 1st column: the words, the x-variable of our problem\n",
        "# 2nd column: the pos-tag, part of speech tagging of each particular word\n",
        "# 3rd column: the syntax-chunk, an additional variable for each word that denotes the syntax\n",
        "# 4th column: the entity, the y-variable of our problem\n",
        "\n",
        "# read the data\n",
        "train = pd.read_csv('eng.train', sep=\" \", names=column_names)\n",
        "development = pd.read_csv('eng.testa', sep=\" \", names = column_names)\n",
        "test = pd.read_csv('eng.testb', sep=\" \", names=column_names)\n",
        "\n",
        "# the way the data was stored\n",
        "train.head(5)"
      ],
      "execution_count": 2,
      "outputs": [
        {
          "output_type": "execute_result",
          "data": {
            "text/html": [
              "<div>\n",
              "<style scoped>\n",
              "    .dataframe tbody tr th:only-of-type {\n",
              "        vertical-align: middle;\n",
              "    }\n",
              "\n",
              "    .dataframe tbody tr th {\n",
              "        vertical-align: top;\n",
              "    }\n",
              "\n",
              "    .dataframe thead th {\n",
              "        text-align: right;\n",
              "    }\n",
              "</style>\n",
              "<table border=\"1\" class=\"dataframe\">\n",
              "  <thead>\n",
              "    <tr style=\"text-align: right;\">\n",
              "      <th></th>\n",
              "      <th>words</th>\n",
              "      <th>pos</th>\n",
              "      <th>syntax</th>\n",
              "      <th>entity</th>\n",
              "    </tr>\n",
              "  </thead>\n",
              "  <tbody>\n",
              "    <tr>\n",
              "      <th>0</th>\n",
              "      <td>-DOCSTART-</td>\n",
              "      <td>-X-</td>\n",
              "      <td>O</td>\n",
              "      <td>O</td>\n",
              "    </tr>\n",
              "    <tr>\n",
              "      <th>1</th>\n",
              "      <td>EU</td>\n",
              "      <td>NNP</td>\n",
              "      <td>I-NP</td>\n",
              "      <td>I-ORG</td>\n",
              "    </tr>\n",
              "    <tr>\n",
              "      <th>2</th>\n",
              "      <td>rejects</td>\n",
              "      <td>VBZ</td>\n",
              "      <td>I-VP</td>\n",
              "      <td>O</td>\n",
              "    </tr>\n",
              "    <tr>\n",
              "      <th>3</th>\n",
              "      <td>German</td>\n",
              "      <td>JJ</td>\n",
              "      <td>I-NP</td>\n",
              "      <td>I-MISC</td>\n",
              "    </tr>\n",
              "    <tr>\n",
              "      <th>4</th>\n",
              "      <td>call</td>\n",
              "      <td>NN</td>\n",
              "      <td>I-NP</td>\n",
              "      <td>O</td>\n",
              "    </tr>\n",
              "  </tbody>\n",
              "</table>\n",
              "</div>"
            ],
            "text/plain": [
              "        words  pos syntax  entity\n",
              "0  -DOCSTART-  -X-      O       O\n",
              "1          EU  NNP   I-NP   I-ORG\n",
              "2     rejects  VBZ   I-VP       O\n",
              "3      German   JJ   I-NP  I-MISC\n",
              "4        call   NN   I-NP       O"
            ]
          },
          "metadata": {},
          "execution_count": 2
        }
      ]
    },
    {
      "cell_type": "code",
      "metadata": {
        "colab": {
          "base_uri": "https://localhost:8080/",
          "height": 404
        },
        "id": "MzN6P5bDgNpn",
        "outputId": "9253c4e1-85b4-41f0-b87e-eeeabeb09c99"
      },
      "source": [
        "# take a look of the dataset\n",
        "plt.figure(figsize=(8,6))\n",
        "g = sns.countplot(x=train['entity'],color=\"r\")\n",
        "g.set_yscale('log')\n",
        "plt.title('Distribution of Entities')\n",
        "plt.xlabel('Entities')\n",
        "plt.ylabel('Number of examples per entity (log scale)')\n",
        "plt.show()\n",
        "# similar information using pandas command (not so 'pretty' though) \n",
        "# train.groupby('entity').size().reset_index(name='counts')\n"
      ],
      "execution_count": 22,
      "outputs": [
        {
          "output_type": "display_data",
          "data": {
            "image/png": "[encoded data removed]",
            "text/plain": [
              "<Figure size 576x432 with 1 Axes>"
            ]
          },
          "metadata": {
            "needs_background": "light"
          }
        }
      ]
    },
    {
      "cell_type": "markdown",
      "metadata": {
        "id": "VjTTN__oIKR6"
      },
      "source": [
        "The entity caterogies are:\n",
        "\n",
        "\n",
        "1.   'O' : other, no entity\n",
        "2.   'ORG' : organization\n",
        "3.   'MISC' : other, not well defined entity\n",
        "4.   'PER' : person\n",
        "5.   'LOC' : location\n",
        "\n",
        "**The 'B-TYPE' entities stand only for entities in the case of a second phrase of the same type is met in the same sentence.** "
      ]
    },
    {
      "cell_type": "markdown",
      "metadata": {
        "id": "_0N6JyQsSSiL"
      },
      "source": [
        "***The dataset is quite unbalanced. In order to get the better possible results there are some perspectives someone can follow :***\n",
        "\n",
        "1.   Apply undersampling over the training set only for the **{ O }** entity categoty. \n",
        "2.   Group together the corresponding **{ B- }** with **{ I- }** entity categories. \n",
        "3.   Leave the data as they are. \n"
      ]
    },
    {
      "cell_type": "markdown",
      "metadata": {
        "id": "Cq30zxBETakY"
      },
      "source": [
        "At this project I will follow the easy path, the option (2) mentioned above. "
      ]
    },
    {
      "cell_type": "markdown",
      "metadata": {
        "id": "dEYLUPKBTspK"
      },
      "source": [
        "# Preprocess the data"
      ]
    },
    {
      "cell_type": "code",
      "metadata": {
        "id": "GJnZnSo8fxHR",
        "colab": {
          "base_uri": "https://localhost:8080/"
        },
        "outputId": "fa9ec43a-6347-4f2b-a16c-77fdba7ebb17"
      },
      "source": [
        "def prepare_dataset(dataset):\n",
        "  # drop the 1st row of the datasets since it is the header of the dataset\n",
        "  dataset = dataset.drop([0])\n",
        "  # drop the nan values \n",
        "  dataset = dataset.dropna()\n",
        "  # the 1st column contains the words\n",
        "  words = list(dataset['words'])\n",
        "  # the 2nd column contains the part of speech tag (pos)\n",
        "  pos = list(dataset['pos'])  \n",
        "  # the 3rd column contains a syntactic chunk tag \n",
        "  syntax = list(dataset['syntax'])\n",
        "  # the 4th column contains the entity labels\n",
        "  entity = list(dataset['entity'])\n",
        "\n",
        "  # omit the 'I-' and the 'B-' symbol in order to group by the corresponding categories\n",
        "  for i in range(len(entity)):\n",
        "    if len(entity[i]) > 1 : \n",
        "      entity[i] = entity[i][2:]\n",
        "  \n",
        "  # make list of sentences and the other variables\n",
        "  sentence, sent_pos, sent_synt, sent_ent = [], [], [], []\n",
        "  all_sent, all_pos, all_synt, all_ent = [], [], [], []\n",
        "  for i in range(len(words)):\n",
        "    # when a dot (.) is met that means that another sentence follows\n",
        "    if words[i] == '.' :\n",
        "      all_sent.append(sentence)\n",
        "      sentence = []\n",
        "      all_pos.append(sent_pos)\n",
        "      sent_pos = []\n",
        "      all_synt.append(sent_synt)\n",
        "      sent_synt = []\n",
        "      all_ent.append(sent_ent)\n",
        "      sent_ent = []\n",
        "    else:\n",
        "      sentence.append(words[i])\n",
        "      sent_pos.append(pos[i])\n",
        "      sent_synt.append(syntax[i])\n",
        "      sent_ent.append(entity[i])\n",
        "\n",
        "  return all_sent, all_pos, all_synt, all_ent\n",
        "\n",
        "train_sentences, train_pos, train_syntax, train_entity = prepare_dataset(train)\n",
        "dev_sentences, dev_pos, dev_syntax, dev_entity = prepare_dataset(development)\n",
        "test_sentences, test_pos, test_syntax, test_entity = prepare_dataset(test)\n",
        "\n",
        "# take a look a the data now\n",
        "print(train_sentences[0])\n",
        "print(train_entity[0])\n",
        "print()"
      ],
      "execution_count": 4,
      "outputs": [
        {
          "output_type": "stream",
          "name": "stdout",
          "text": [
            "['EU', 'rejects', 'German', 'call', 'to', 'boycott', 'British', 'lamb']\n",
            "['ORG', 'O', 'MISC', 'O', 'O', 'O', 'MISC', 'O']\n",
            "\n"
          ]
        }
      ]
    },
    {
      "cell_type": "code",
      "metadata": {
        "id": "iDl49RoZPOSy"
      },
      "source": [
        "# get the name of the entities and add an additional 'PAD' entity since some sentences are going to be padded\n",
        "all_entities = []\n",
        "for i in train_entity:\n",
        "  for j in i:\n",
        "    all_entities.append(j)\n",
        "    \n",
        "tag_values = list(set(all_entities))\n",
        "tag_values.append(\"PAD\")"
      ],
      "execution_count": 5,
      "outputs": []
    },
    {
      "cell_type": "code",
      "metadata": {
        "colab": {
          "base_uri": "https://localhost:8080/"
        },
        "id": "wSnDpYP7POVh",
        "outputId": "9bed084a-69c7-42c6-feb5-2ebfc1da9042"
      },
      "source": [
        "# also turn entities to numbers\n",
        "tag2idx = {t: i for i, t in enumerate(tag_values)}\n",
        "print(tag2idx)"
      ],
      "execution_count": 6,
      "outputs": [
        {
          "output_type": "stream",
          "name": "stdout",
          "text": [
            "{'MISC': 0, 'ORG': 1, 'O': 2, 'LOC': 3, 'PER': 4, 'PAD': 5}\n"
          ]
        }
      ]
    },
    {
      "cell_type": "code",
      "metadata": {
        "colab": {
          "base_uri": "https://localhost:8080/",
          "height": 404
        },
        "id": "Hp-vXSpzPOYa",
        "outputId": "7f74b7e5-4165-419d-f003-6beaf2a2cb3f"
      },
      "source": [
        "# Check the length of the sentences at train set in order to decide the max_length of the BERT model\n",
        "sentence_len = []\n",
        "for i in train_sentences:\n",
        "  # there are a very few sentences with over 200 sentences\n",
        "  if len(i) < 100: \n",
        "    sentence_len.append(len(i))\n",
        "plt.figure(figsize=(8,6))\n",
        "plt.hist(sentence_len)\n",
        "plt.title('Distribution of the Length of the sentences')\n",
        "plt.xlabel('Words per sentence')\n",
        "plt.ylabel('Counts')\n",
        "plt.show()"
      ],
      "execution_count": 7,
      "outputs": [
        {
          "output_type": "display_data",
          "data": {
            "image/png": "[encoded data removed]",
            "text/plain": [
              "<Figure size 576x432 with 1 Axes>"
            ]
          },
          "metadata": {
            "needs_background": "light"
          }
        }
      ]
    },
    {
      "cell_type": "code",
      "metadata": {
        "id": "QI-iRSRzPObQ"
      },
      "source": [
        "# 50 seems like a 'good' cutoff \n",
        "max_length = 50\n",
        "batch_size = 64\n"
      ],
      "execution_count": 8,
      "outputs": []
    },
    {
      "cell_type": "markdown",
      "metadata": {
        "id": "JizM8zxXYFY3"
      },
      "source": [
        "# Prepare the data for the BERT "
      ]
    },
    {
      "cell_type": "code",
      "metadata": {
        "id": "mh5bRpcQWLJK"
      },
      "source": [
        "# use of GPU\n",
        "device = torch.device(\"cuda\" if torch.cuda.is_available() else \"cpu\")\n",
        "n_gpu = torch.cuda.device_count()\n",
        "\n",
        "# download the BERT model for Named Entity Recognition\n",
        "tokenizer = BertTokenizer.from_pretrained('bert-base-cased', do_lower_case=False)\n"
      ],
      "execution_count": null,
      "outputs": []
    },
    {
      "cell_type": "code",
      "metadata": {
        "id": "PkbBeEriPOd2"
      },
      "source": [
        "# tokenize the sentences to words/subwords and keep the entities of all words and subwords\n",
        "def tokenize_and_preserve_labels(sentence, text_labels):\n",
        "  tokenized_sentence = []\n",
        "  labels = []\n",
        "  for word, label in zip(sentence, text_labels):\n",
        "    # Tokenize each word\n",
        "    tokenized_word = tokenizer.tokenize(word)\n",
        "    # count the number of tokens/subwords the words is divided to\n",
        "    n_subwords = len(tokenized_word)\n",
        "    # Add the tokenized word to the final list\n",
        "    tokenized_sentence.extend(tokenized_word)\n",
        "    # Add the same entity label `n_subwords` times\n",
        "    labels.extend([label] * n_subwords)    \n",
        "  return tokenized_sentence, labels\n",
        "\n",
        "# format the data in the way BERT needs them as input \n",
        "def get_x_y(x,y):\n",
        "  tokenized_texts_and_labels = [tokenize_and_preserve_labels(sent, labs) for sent, labs in zip(x, y)]\n",
        "  # parse the sentences (the 'x' of the problem)\n",
        "  sentences = [token_label_pair[0] for token_label_pair in tokenized_texts_and_labels]\n",
        "  # pad the sentences\n",
        "  input_ids = pad_sequences([tokenizer.convert_tokens_to_ids(txt) for txt in sentences], maxlen=max_length, \n",
        "                          dtype=\"long\", value=0.0,truncating=\"post\", padding=\"post\")\n",
        "\n",
        "  # parse the labels (the 'y' of the problem)\n",
        "  labels = [token_label_pair[1] for token_label_pair in tokenized_texts_and_labels] \n",
        "  # pad the labels\n",
        "  tags = pad_sequences([[tag2idx.get(l) for l in lab] for lab in labels], maxlen=max_length,\n",
        "                     value=tag2idx[\"PAD\"], padding=\"post\",dtype=\"long\", truncating=\"post\")\n",
        "  # create the mask  \n",
        "  attention_masks = [[float(i != 0.0) for i in ii] for ii in input_ids]\n",
        "\n",
        "  return input_ids, tags, attention_masks"
      ],
      "execution_count": 10,
      "outputs": []
    },
    {
      "cell_type": "code",
      "metadata": {
        "id": "-hwZGd3D1qoJ",
        "colab": {
          "base_uri": "https://localhost:8080/"
        },
        "outputId": "acb84574-063f-44ca-b49c-296ea9617791"
      },
      "source": [
        "train_input, train_labels, train_masks = get_x_y(train_sentences, train_entity)\n",
        "dev_input, dev_labels, dev_masks = get_x_y(dev_sentences, dev_entity)\n",
        "test_input, test_labels, test_masks = get_x_y(test_sentences, test_entity)\n",
        "\n",
        "# take a look how the data were 'converted' :\n",
        "print(\"The 'x'-data looks like : \")\n",
        "print(\"Before : \", train_sentences[0])\n",
        "print(\"Now : \", train_input[0])\n",
        "print()\n",
        "print(\"The 'y'-data looks like : \")\n",
        "print(\"Before : \", train_entity[0])\n",
        "print(\"Now : \", train_labels[0])\n",
        "print()\n",
        "print(\"The mask of the above example looks like: \")\n",
        "print(train_masks[0])"
      ],
      "execution_count": 11,
      "outputs": [
        {
          "output_type": "stream",
          "name": "stdout",
          "text": [
            "The 'x'-data looks like : \n",
            "Before :  ['EU', 'rejects', 'German', 'call', 'to', 'boycott', 'British', 'lamb']\n",
            "Now :  [ 7270 22961  1528  1840  1106 21423  1418  2495 12913     0     0     0\n",
            "     0     0     0     0     0     0     0     0     0     0     0     0\n",
            "     0     0     0     0     0     0     0     0     0     0     0     0\n",
            "     0     0     0     0     0     0     0     0     0     0     0     0\n",
            "     0     0]\n",
            "\n",
            "The 'y'-data looks like : \n",
            "Before :  ['ORG', 'O', 'MISC', 'O', 'O', 'O', 'MISC', 'O']\n",
            "Now :  [1 2 0 2 2 2 0 2 2 5 5 5 5 5 5 5 5 5 5 5 5 5 5 5 5 5 5 5 5 5 5 5 5 5 5 5 5\n",
            " 5 5 5 5 5 5 5 5 5 5 5 5 5]\n",
            "\n",
            "The mask of the above example looks like: \n",
            "[1.0, 1.0, 1.0, 1.0, 1.0, 1.0, 1.0, 1.0, 1.0, 0.0, 0.0, 0.0, 0.0, 0.0, 0.0, 0.0, 0.0, 0.0, 0.0, 0.0, 0.0, 0.0, 0.0, 0.0, 0.0, 0.0, 0.0, 0.0, 0.0, 0.0, 0.0, 0.0, 0.0, 0.0, 0.0, 0.0, 0.0, 0.0, 0.0, 0.0, 0.0, 0.0, 0.0, 0.0, 0.0, 0.0, 0.0, 0.0, 0.0, 0.0]\n"
          ]
        }
      ]
    },
    {
      "cell_type": "code",
      "metadata": {
        "id": "Ds2qPV8rRnjE"
      },
      "source": [
        "# convert the data to tensor and pass it to dataloaders \n",
        "def data_to_tensor_to_dataloader(x,mask,y, batch_size=batch_size):\n",
        "  # to tensors\n",
        "  xx = torch.tensor(x)\n",
        "  yy = torch.tensor(y)\n",
        "  mm = torch.tensor(mask)\n",
        "\n",
        "  # to dataloader\n",
        "  data = TensorDataset(xx, mm, yy)\n",
        "  sampler = RandomSampler(data)\n",
        "  dataloader = DataLoader(data, sampler=sampler, batch_size=batch_size)\n",
        "  return dataloader\n",
        "\n",
        "train_dataloader = data_to_tensor_to_dataloader(train_input, train_masks, train_labels)\n",
        "dev_dataloader = data_to_tensor_to_dataloader(dev_input, dev_masks, dev_labels)\n",
        "test_dataloader = data_to_tensor_to_dataloader(test_input, test_masks, test_labels)"
      ],
      "execution_count": 12,
      "outputs": []
    },
    {
      "cell_type": "markdown",
      "metadata": {
        "id": "rFKPYmOPEaWy"
      },
      "source": [
        "# Get the BERT ready"
      ]
    },
    {
      "cell_type": "code",
      "metadata": {
        "id": "fZSH79tzR5aX"
      },
      "source": [
        "# the BERT model\n",
        "model = BertForTokenClassification.from_pretrained(\"bert-base-cased\", num_labels=len(tag2idx),\n",
        "                                                   output_attentions = False, output_hidden_states = False)\n",
        "model.cuda()\n"
      ],
      "execution_count": null,
      "outputs": []
    },
    {
      "cell_type": "code",
      "metadata": {
        "id": "eEawv4fBHu7w"
      },
      "source": [
        "# if hyperparameter tuning is to be done, \n",
        "# here is the place that the hyperparameters should be defined\n",
        "\n",
        "# parameters\n",
        "optimizer = AdamW(model.parameters(), lr=3e-5, eps=1e-8)\n",
        "epochs = 3\n",
        "max_grad_norm = 1.0\n",
        "# Total number of training steps is number of batches * number of epochs.\n",
        "total_steps = len(train_dataloader) * epochs\n",
        "\n",
        "# Create the learning rate scheduler.\n",
        "scheduler = get_linear_schedule_with_warmup(\n",
        "    optimizer,num_warmup_steps=0,num_training_steps=total_steps)\n"
      ],
      "execution_count": null,
      "outputs": []
    },
    {
      "cell_type": "markdown",
      "metadata": {
        "id": "fm3fASN4FGPn"
      },
      "source": [
        "# Train the model"
      ]
    },
    {
      "cell_type": "code",
      "metadata": {
        "id": "sBYI20DER5kq",
        "colab": {
          "base_uri": "https://localhost:8080/"
        },
        "outputId": "e297369e-83ee-4e3e-c5fc-4c03b64abacf"
      },
      "source": [
        "# almost the same as https://www.depends-on-the-definition.com/named-entity-recognition-with-bert/\n",
        "train_loss, acc, f1, val_loss, val_acc, val_f1 = [], [], [], [], [], []\n",
        "for _ in trange(epochs, desc=\"Epoch\"):\n",
        "  model.train()\n",
        "  # Reset the total loss for this epoch.\n",
        "  total_loss = 0\n",
        "\n",
        "  # Training loop\n",
        "  for step, batch in enumerate(train_dataloader):\n",
        "    # add batch to gpu\n",
        "    batch = tuple(t.to(device) for t in batch)\n",
        "    b_input_ids, b_input_mask, b_labels = batch\n",
        "    # Always clear any previously calculated gradients before performing a backward pass.\n",
        "    model.zero_grad()\n",
        "    outputs = model(b_input_ids, token_type_ids=None,\n",
        "                        attention_mask=b_input_mask, labels=b_labels)\n",
        "    # get the loss\n",
        "    loss = outputs[0]\n",
        "    # Perform a backward pass to calculate the gradients.\n",
        "    loss.backward()\n",
        "    # track train loss\n",
        "    total_loss += loss.item()\n",
        "    # Clip the norm of the gradient\n",
        "    # This is to help prevent the \"exploding gradients\" problem.\n",
        "    torch.nn.utils.clip_grad_norm_(parameters=model.parameters(), max_norm=max_grad_norm)\n",
        "    # update parameters\n",
        "    optimizer.step()\n",
        "    # Update the learning rate.\n",
        "    scheduler.step()\n",
        "\n",
        "  # Calculate the average loss over the training data.\n",
        "  avg_train_loss = total_loss / len(train_dataloader)\n",
        "  print()\n",
        "  print(\"Average train loss: {}\".format(avg_train_loss))\n",
        "  # Store the loss value for plotting the learning curve.\n",
        "  train_loss.append(avg_train_loss)\n",
        "\n",
        "  # Put the model into evaluation mode\n",
        "  model.eval()\n",
        "  # Reset the validation loss for this epoch.\n",
        "  eval_loss, eval_accuracy = 0, 0\n",
        "  nb_eval_steps, nb_eval_examples = 0, 0\n",
        "  predictions , true_labels = [], []\n",
        "  for batch in dev_dataloader:\n",
        "    batch = tuple(t.to(device) for t in batch)\n",
        "    b_input_ids, b_input_mask, b_labels = batch\n",
        "\n",
        "    # Telling the model not to compute or store gradients,\n",
        "    # saving memory and speeding up validation\n",
        "    with torch.no_grad():\n",
        "      outputs = model(b_input_ids, token_type_ids=None,\n",
        "                            attention_mask=b_input_mask, labels=b_labels)\n",
        "    # Move logits and labels to CPU\n",
        "    logits = outputs[1].detach().cpu().numpy()\n",
        "    label_ids = b_labels.to('cpu').numpy()\n",
        "\n",
        "    # Calculate the accuracy for this batch of test sentences.\n",
        "    eval_loss += outputs[0].mean().item()\n",
        "    predictions.extend([list(p) for p in np.argmax(logits, axis=2)])\n",
        "    true_labels.extend(label_ids)\n",
        "\n",
        "  eval_loss = eval_loss / len(dev_dataloader)\n",
        "  val_loss.append(eval_loss)\n",
        "  # print(\"Validation loss: {}\".format(eval_loss))\n",
        "  \n",
        "  pred_tags = [tag_values[p_i] for p, l in zip(predictions, true_labels)\n",
        "                                 for p_i, l_i in zip(p, l) if tag_values[l_i] != \"PAD\"]\n",
        "  valid_tags = [tag_values[l_i] for l in true_labels\n",
        "                                  for l_i in l if tag_values[l_i] != \"PAD\"]\n",
        "    \n",
        "  val_f1.append(f1_score(valid_tags, pred_tags, average='weighted'))\n",
        "  val_acc.append(accuracy_score(pred_tags, valid_tags))\n",
        "  # print(\"Validation Accuracy: {}\".format(val_acc[-1]))\n",
        "  # print(\"Validation F1-Score: {}\".format(val_f1[-1]))\n",
        "  print()\n",
        "\n"
      ],
      "execution_count": 14,
      "outputs": [
        {
          "output_type": "stream",
          "name": "stderr",
          "text": [
            "\rEpoch:   0%|          | 0/3 [00:00<?, ?it/s]"
          ]
        },
        {
          "output_type": "stream",
          "name": "stdout",
          "text": [
            "\n",
            "Average train loss: 0.28613373328899516\n"
          ]
        },
        {
          "output_type": "stream",
          "name": "stderr",
          "text": [
            "\rEpoch:  33%|███▎      | 1/3 [02:09<04:18, 129.09s/it]"
          ]
        },
        {
          "output_type": "stream",
          "name": "stdout",
          "text": [
            "\n",
            "\n",
            "Average train loss: 0.06988756154695976\n"
          ]
        },
        {
          "output_type": "stream",
          "name": "stderr",
          "text": [
            "\rEpoch:  67%|██████▋   | 2/3 [04:17<02:08, 128.57s/it]"
          ]
        },
        {
          "output_type": "stream",
          "name": "stdout",
          "text": [
            "\n",
            "\n",
            "Average train loss: 0.042076789412711715\n"
          ]
        },
        {
          "output_type": "stream",
          "name": "stderr",
          "text": [
            "Epoch: 100%|██████████| 3/3 [06:25<00:00, 128.38s/it]"
          ]
        },
        {
          "output_type": "stream",
          "name": "stdout",
          "text": [
            "\n"
          ]
        },
        {
          "output_type": "stream",
          "name": "stderr",
          "text": [
            "\n"
          ]
        }
      ]
    },
    {
      "cell_type": "code",
      "metadata": {
        "id": "R7JU42oWR5nt",
        "colab": {
          "base_uri": "https://localhost:8080/",
          "height": 295
        },
        "outputId": "8df34355-7529-4951-9422-6ef9ccaeb861"
      },
      "source": [
        "# Plot the learning curve.\n",
        "plt.figure(figsize=(6,4))\n",
        "plt.plot(train_loss, 'b-o', label=\"training loss\")\n",
        "plt.plot(val_loss, 'r-o', label=\"validation loss\")\n",
        "plt.title(\"Learning curve\")\n",
        "plt.xlabel(\"Epoch\")\n",
        "plt.ylabel(\"Loss\")\n",
        "plt.legend()\n",
        "plt.show()\n"
      ],
      "execution_count": 15,
      "outputs": [
        {
          "output_type": "display_data",
          "data": {
            "image/png": "[encoded data removed]",
            "text/plain": [
              "<Figure size 432x288 with 1 Axes>"
            ]
          },
          "metadata": {
            "needs_background": "light"
          }
        }
      ]
    },
    {
      "cell_type": "markdown",
      "metadata": {
        "id": "ueEhgT3MKXsI"
      },
      "source": [
        "# Final scores"
      ]
    },
    {
      "cell_type": "code",
      "metadata": {
        "id": "pr9_vmS0JZz3"
      },
      "source": [
        "for batch in test_dataloader:\n",
        "  batch = tuple(t.to(device) for t in batch)\n",
        "  b_input_ids, b_input_mask, b_labels = batch\n",
        "  with torch.no_grad():\n",
        "    outputs = model(b_input_ids, token_type_ids=None,\n",
        "                            attention_mask=b_input_mask)\n",
        "  logits = outputs[0].detach().cpu().numpy()\n",
        "  label_ids = b_labels.to('cpu').numpy()\n",
        "  predictions.extend([list(p) for p in np.argmax(logits, axis=2)])\n",
        "  true_labels.extend(label_ids)\n"
      ],
      "execution_count": 16,
      "outputs": []
    },
    {
      "cell_type": "code",
      "metadata": {
        "id": "l8U4EDhoR5rS",
        "colab": {
          "base_uri": "https://localhost:8080/"
        },
        "outputId": "aa7b704e-d534-4af2-af9c-1d9938fbeab9"
      },
      "source": [
        "pred_tags = [tag_values[p_i] for p, l in zip(predictions, true_labels)\n",
        "                                 for p_i, l_i in zip(p, l) if tag_values[l_i] != \"PAD\"]\n",
        "valid_tags = [tag_values[l_i] for l in true_labels\n",
        "                                  for l_i in l if tag_values[l_i] != \"PAD\"]\n",
        "    \n",
        "test_f1 = f1_score(valid_tags, pred_tags, average='weighted')\n",
        "test_acc = accuracy_score(pred_tags, valid_tags)\n",
        "print(\"Final Test Accuracy: {}\".format(test_acc))\n",
        "print(\"Final Test F1-Score: {}\".format(test_f1))\n"
      ],
      "execution_count": 17,
      "outputs": [
        {
          "output_type": "stream",
          "name": "stdout",
          "text": [
            "Final Test Accuracy: 0.9738267236719249\n",
            "Final Test F1-Score: 0.974023814137617\n"
          ]
        }
      ]
    },
    {
      "cell_type": "code",
      "metadata": {
        "id": "1oXMy-pccUP7",
        "colab": {
          "base_uri": "https://localhost:8080/",
          "height": 173
        },
        "outputId": "7698aa47-d631-4ba8-f299-2f337fd466dd"
      },
      "source": [
        "# classification report of the model \n",
        "pd.DataFrame(classification_report(pred_tags,valid_tags, output_dict=True))"
      ],
      "execution_count": 18,
      "outputs": [
        {
          "output_type": "execute_result",
          "data": {
            "text/html": [
              "<div>\n",
              "<style scoped>\n",
              "    .dataframe tbody tr th:only-of-type {\n",
              "        vertical-align: middle;\n",
              "    }\n",
              "\n",
              "    .dataframe tbody tr th {\n",
              "        vertical-align: top;\n",
              "    }\n",
              "\n",
              "    .dataframe thead th {\n",
              "        text-align: right;\n",
              "    }\n",
              "</style>\n",
              "<table border=\"1\" class=\"dataframe\">\n",
              "  <thead>\n",
              "    <tr style=\"text-align: right;\">\n",
              "      <th></th>\n",
              "      <th>LOC</th>\n",
              "      <th>MISC</th>\n",
              "      <th>O</th>\n",
              "      <th>ORG</th>\n",
              "      <th>PER</th>\n",
              "      <th>accuracy</th>\n",
              "      <th>macro avg</th>\n",
              "      <th>weighted avg</th>\n",
              "    </tr>\n",
              "  </thead>\n",
              "  <tbody>\n",
              "    <tr>\n",
              "      <th>precision</th>\n",
              "      <td>0.919145</td>\n",
              "      <td>0.794260</td>\n",
              "      <td>0.989849</td>\n",
              "      <td>0.895230</td>\n",
              "      <td>0.970662</td>\n",
              "      <td>0.973827</td>\n",
              "      <td>0.913829</td>\n",
              "      <td>0.973540</td>\n",
              "    </tr>\n",
              "    <tr>\n",
              "      <th>recall</th>\n",
              "      <td>0.927389</td>\n",
              "      <td>0.793492</td>\n",
              "      <td>0.994606</td>\n",
              "      <td>0.840735</td>\n",
              "      <td>0.956195</td>\n",
              "      <td>0.973827</td>\n",
              "      <td>0.902483</td>\n",
              "      <td>0.973827</td>\n",
              "    </tr>\n",
              "    <tr>\n",
              "      <th>f1-score</th>\n",
              "      <td>0.923249</td>\n",
              "      <td>0.793876</td>\n",
              "      <td>0.992222</td>\n",
              "      <td>0.867127</td>\n",
              "      <td>0.963374</td>\n",
              "      <td>0.973827</td>\n",
              "      <td>0.907970</td>\n",
              "      <td>0.973630</td>\n",
              "    </tr>\n",
              "    <tr>\n",
              "      <th>support</th>\n",
              "      <td>5798.000000</td>\n",
              "      <td>3104.000000</td>\n",
              "      <td>79903.000000</td>\n",
              "      <td>5224.000000</td>\n",
              "      <td>7716.000000</td>\n",
              "      <td>0.973827</td>\n",
              "      <td>101745.000000</td>\n",
              "      <td>101745.000000</td>\n",
              "    </tr>\n",
              "  </tbody>\n",
              "</table>\n",
              "</div>"
            ],
            "text/plain": [
              "                   LOC         MISC  ...      macro avg   weighted avg\n",
              "precision     0.919145     0.794260  ...       0.913829       0.973540\n",
              "recall        0.927389     0.793492  ...       0.902483       0.973827\n",
              "f1-score      0.923249     0.793876  ...       0.907970       0.973630\n",
              "support    5798.000000  3104.000000  ...  101745.000000  101745.000000\n",
              "\n",
              "[4 rows x 8 columns]"
            ]
          },
          "metadata": {},
          "execution_count": 18
        }
      ]
    },
    {
      "cell_type": "code",
      "metadata": {
        "colab": {
          "base_uri": "https://localhost:8080/",
          "height": 173
        },
        "id": "-7bBra8CBnmC",
        "outputId": "267cdfca-57f1-47bb-a3dc-3b68fd896e5f"
      },
      "source": [
        "# classification report of the problem, excluding the 'O' class since it is the one that means 'Not an entity'\n",
        "pd.DataFrame(classification_report(pred_tags,valid_tags, output_dict=True, labels=['LOC', 'MISC','ORG','PER']))"
      ],
      "execution_count": 20,
      "outputs": [
        {
          "output_type": "execute_result",
          "data": {
            "text/html": [
              "<div>\n",
              "<style scoped>\n",
              "    .dataframe tbody tr th:only-of-type {\n",
              "        vertical-align: middle;\n",
              "    }\n",
              "\n",
              "    .dataframe tbody tr th {\n",
              "        vertical-align: top;\n",
              "    }\n",
              "\n",
              "    .dataframe thead th {\n",
              "        text-align: right;\n",
              "    }\n",
              "</style>\n",
              "<table border=\"1\" class=\"dataframe\">\n",
              "  <thead>\n",
              "    <tr style=\"text-align: right;\">\n",
              "      <th></th>\n",
              "      <th>LOC</th>\n",
              "      <th>MISC</th>\n",
              "      <th>ORG</th>\n",
              "      <th>PER</th>\n",
              "      <th>micro avg</th>\n",
              "      <th>macro avg</th>\n",
              "      <th>weighted avg</th>\n",
              "    </tr>\n",
              "  </thead>\n",
              "  <tbody>\n",
              "    <tr>\n",
              "      <th>precision</th>\n",
              "      <td>0.919145</td>\n",
              "      <td>0.794260</td>\n",
              "      <td>0.895230</td>\n",
              "      <td>0.970662</td>\n",
              "      <td>0.913878</td>\n",
              "      <td>0.894824</td>\n",
              "      <td>0.913877</td>\n",
              "    </tr>\n",
              "    <tr>\n",
              "      <th>recall</th>\n",
              "      <td>0.927389</td>\n",
              "      <td>0.793492</td>\n",
              "      <td>0.840735</td>\n",
              "      <td>0.956195</td>\n",
              "      <td>0.897812</td>\n",
              "      <td>0.879453</td>\n",
              "      <td>0.897812</td>\n",
              "    </tr>\n",
              "    <tr>\n",
              "      <th>f1-score</th>\n",
              "      <td>0.923249</td>\n",
              "      <td>0.793876</td>\n",
              "      <td>0.867127</td>\n",
              "      <td>0.963374</td>\n",
              "      <td>0.905774</td>\n",
              "      <td>0.886906</td>\n",
              "      <td>0.905615</td>\n",
              "    </tr>\n",
              "    <tr>\n",
              "      <th>support</th>\n",
              "      <td>5798.000000</td>\n",
              "      <td>3104.000000</td>\n",
              "      <td>5224.000000</td>\n",
              "      <td>7716.000000</td>\n",
              "      <td>21842.000000</td>\n",
              "      <td>21842.000000</td>\n",
              "      <td>21842.000000</td>\n",
              "    </tr>\n",
              "  </tbody>\n",
              "</table>\n",
              "</div>"
            ],
            "text/plain": [
              "                   LOC         MISC  ...     macro avg  weighted avg\n",
              "precision     0.919145     0.794260  ...      0.894824      0.913877\n",
              "recall        0.927389     0.793492  ...      0.879453      0.897812\n",
              "f1-score      0.923249     0.793876  ...      0.886906      0.905615\n",
              "support    5798.000000  3104.000000  ...  21842.000000  21842.000000\n",
              "\n",
              "[4 rows x 7 columns]"
            ]
          },
          "metadata": {},
          "execution_count": 20
        }
      ]
    },
    {
      "cell_type": "markdown",
      "metadata": {
        "id": "r1uw_1YgLtLc"
      },
      "source": [
        "**Final F1-score : 0.9056** (weighted average)"
      ]
    },
    {
      "cell_type": "markdown",
      "metadata": {
        "id": "_HBAGrmbWehy"
      },
      "source": [
        "# Get the entities of a sentence of your choice"
      ]
    },
    {
      "cell_type": "code",
      "metadata": {
        "id": "46N817APR5uG",
        "colab": {
          "base_uri": "https://localhost:8080/"
        },
        "outputId": "9a1fa6a4-821d-461e-83b7-a9bfc379760d"
      },
      "source": [
        "# give the sentence of your choice\n",
        "example = input(\"Write the sentence of your choice: \\n\")"
      ],
      "execution_count": 26,
      "outputs": [
        {
          "name": "stdout",
          "output_type": "stream",
          "text": [
            "Write the sentence of your choice: \n",
            "Pantelis Ziazopoulos is a good kid, working at the NONE coorporation, living in Athens, being a Greek citizen, rarely watching Movies.\n"
          ]
        }
      ]
    },
    {
      "cell_type": "code",
      "metadata": {
        "id": "Q3EFsqeKSjV3"
      },
      "source": [
        "def get_the_entities(example_sentence, tag_values=tag_values):\n",
        "  tokenized_sentence = tokenizer.encode(example_sentence)\n",
        "  input_ids = torch.tensor([tokenized_sentence]).cuda()\n",
        "  with torch.no_grad():\n",
        "    output = model(input_ids)\n",
        "  label_indices = np.argmax(output[0].to('cpu').numpy(), axis=2)\n",
        "\n",
        "  tokens = tokenizer.convert_ids_to_tokens(input_ids.to('cpu').numpy()[0])\n",
        "  new_tokens, new_labels = [], []\n",
        "  for token, label_idx in zip(tokens, label_indices[0]):\n",
        "    if token.startswith(\"##\"):\n",
        "      new_tokens[-1] = new_tokens[-1] + token[2:]\n",
        "    else:\n",
        "      new_labels.append(tag_values[label_idx])\n",
        "      new_tokens.append(token)\n",
        "  \n",
        "  for token, label in zip(new_tokens, new_labels):\n",
        "    print(\"{}\\t{}\".format(label, token))\n"
      ],
      "execution_count": 27,
      "outputs": []
    },
    {
      "cell_type": "code",
      "metadata": {
        "id": "iQZ836dgSjZq",
        "colab": {
          "base_uri": "https://localhost:8080/"
        },
        "outputId": "007b421d-405c-4c58-c2fd-a00485b825ff"
      },
      "source": [
        "get_the_entities(example)"
      ],
      "execution_count": 28,
      "outputs": [
        {
          "output_type": "stream",
          "name": "stdout",
          "text": [
            "O\t[CLS]\n",
            "PER\tPantelis\n",
            "PER\tZiazopoulos\n",
            "O\tis\n",
            "O\ta\n",
            "O\tgood\n",
            "O\tkid\n",
            "O\t,\n",
            "O\tworking\n",
            "O\tat\n",
            "O\tthe\n",
            "ORG\tNONE\n",
            "O\tcoorporation\n",
            "O\t,\n",
            "O\tliving\n",
            "O\tin\n",
            "LOC\tAthens\n",
            "O\t,\n",
            "O\tbeing\n",
            "O\ta\n",
            "MISC\tGreek\n",
            "O\tcitizen\n",
            "O\t,\n",
            "O\trarely\n",
            "O\twatching\n",
            "O\tMovies\n",
            "O\t.\n",
            "O\t[SEP]\n"
          ]
        }
      ]
    },
    {
      "cell_type": "markdown",
      "metadata": {
        "id": "8TOxvMyKYG1K"
      },
      "source": [
        "# Summary\n",
        "\n"
      ]
    },
    {
      "cell_type": "markdown",
      "metadata": {
        "id": "0R5X3Vx7YLn2"
      },
      "source": [
        "In order to complete the task above I worked 9 hours, wanting to keep the workload at the levels of a single working day. \n",
        "\n",
        "The process I followed : \n",
        "\n",
        "1.   Asked permission for the data (**1st problem : I did not expect that the data would not be public**).\n",
        "2.   Read various stuff regarding Named Entity Recognition (NER) over the internet. \n",
        "3.   Decided to build a BERT classifier since it is a pretrained model, giving excellent results at NER problems. **2nd problem** : I found it difficult to implement more basic algorithms, like a MLP, due to the format of the data and got confused about how to handle it. \n",
        "4.   Searched the internet again in order to find BERT algorithms that matched my purposes (easy to read, understable). **3rd problem** : I knew theoritical stuff regarding BERT models but I am not so good at writing code for the use of GPUs (make dataloaders, etc.). \n",
        "5.   Imlpemented all the stuff I found from the internet to my problem while trying to be as clear as possible. \n",
        "\n",
        "**Possible Future Work** :\n",
        "\n",
        "*   Apply undersampling for the {O} class over the training set so that the classifier does not overfit at all at this entity category.\n",
        "*   Do not group together the {B-} and the {I-} corresponding categories and check the scores of the model.  \n",
        "*   Make more appealling visualization. \n",
        "*   Make use as additional information to the classifier input the *pos-tag* and the *syntax-chunk* of each word (2nd and 3rd column of the dataset). \n",
        "*   Apply hyperparameter tuning, grid or random search (e.g. learning rate of the BERT model, additional dense layers over the BERT output, etc.). \n",
        "*   Get deeper insight regarding the final scores of the classifier for each entity category (e.g. why 'MISC' categoty is the lowest scoring category ?)\n",
        "\n",
        "---\n",
        "\n",
        "I hope that you find this script quite readable and understandable.\n",
        "\n"
      ]
    }
  ]
}