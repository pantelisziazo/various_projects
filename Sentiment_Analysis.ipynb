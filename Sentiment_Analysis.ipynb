{
  "nbformat": 4,
  "nbformat_minor": 0,
  "metadata": {
    "colab": {
      "name": "Sentiment Analysis.ipynb",
      "provenance": [],
      "collapsed_sections": [],
      "authorship_tag": "ABX9TyO9Kg1Hvl+UX2nbInlqYdHX",
      "include_colab_link": true
    },
    "kernelspec": {
      "name": "python3",
      "display_name": "Python 3"
    },
    "language_info": {
      "name": "python"
    }
  },
  "cells": [
    {
      "cell_type": "markdown",
      "metadata": {
        "id": "view-in-github",
        "colab_type": "text"
      },
      "source": [
        "<a href=\"https://colab.research.google.com/github/pantelisziazo/various_projects/blob/main/Sentiment_Analysis.ipynb\" target=\"_parent\"><img src=\"https://colab.research.google.com/assets/colab-badge.svg\" alt=\"Open In Colab\"/></a>"
      ]
    },
    {
      "cell_type": "markdown",
      "metadata": {
        "id": "PyVXrhRLqQby"
      },
      "source": [
        "# Introduction\n"
      ]
    },
    {
      "cell_type": "markdown",
      "metadata": {
        "id": "7X6OgsjYx6TE"
      },
      "source": [
        "## Overview"
      ]
    },
    {
      "cell_type": "markdown",
      "metadata": {
        "id": "2mMQlobfqqXy"
      },
      "source": [
        "In this script I apply **Sentiment Analysis** over a specific (*non-public available*) dataset. \n",
        "\n",
        "The main purpose of this project is to make a classifer that **reads a tweet** and finds the **sentiment** of the it (e.g. if the tweet expresses something negative or has neutral sentiment).\n"
      ]
    },
    {
      "cell_type": "markdown",
      "metadata": {
        "id": "zMT3pLBvrkDp"
      },
      "source": [
        "## More information\n",
        "\n"
      ]
    },
    {
      "cell_type": "markdown",
      "metadata": {
        "id": "zUrqwEBRyAyE"
      },
      "source": [
        "*   My objective is to write a script that is **affordable to everyone** : runs quite fast, is easy to read and understandable. That means that I will make use of [Colab](https://colab.research.google.com/) platform, do not make extensive analysis of the data (but provide information about future improvements) and write as clear code as possible. \n",
        "*   I will try to keep the *workload* needed for this task to less than the workload of a working day.\n",
        "*   The dataset includes sensitive data at some cases. So the appearance of it is going to be *blurred*.\n",
        "*   For any question, please contact me through email at **larryziazo@gmail.com** .\n"
      ]
    },
    {
      "cell_type": "markdown",
      "metadata": {
        "id": "-gob84PUxwtL"
      },
      "source": [
        "# Classification"
      ]
    },
    {
      "cell_type": "markdown",
      "metadata": {
        "id": "WOSm1neBstVD"
      },
      "source": [
        "## Build the appropriate environment and take a first look at the data. "
      ]
    },
    {
      "cell_type": "code",
      "metadata": {
        "id": "hY6FjouKUUcC"
      },
      "source": [
        "# import all the necessary libraries\n",
        "\n",
        "import pandas as pd\n",
        "import numpy as np\n",
        "import matplotlib.pyplot as plt\n",
        "from collections import Counter\n",
        "import seaborn as sns\n",
        "import datetime\n",
        "from sklearn.model_selection import train_test_split \n",
        "from sklearn.feature_extraction.text import TfidfVectorizer\n",
        "from sklearn.linear_model import LogisticRegression\n",
        "from sklearn.metrics import accuracy_score, f1_score\n",
        "from scipy import sparse\n"
      ],
      "execution_count": 1,
      "outputs": []
    },
    {
      "cell_type": "code",
      "metadata": {
        "id": "-k4yvkyHUoNw"
      },
      "source": [
        "# read the .json file with the data\n",
        "data = pd.read_json('/content/palo_assignment.json', lines =True)"
      ],
      "execution_count": 2,
      "outputs": []
    },
    {
      "cell_type": "code",
      "metadata": {
        "colab": {
          "base_uri": "https://localhost:8080/",
          "height": 391
        },
        "id": "L5ryqRsdU60p",
        "outputId": "e9b6aa67-720b-4ea0-e0b0-d5bed36947de"
      },
      "source": [
        "# the command below is to make blurry the appearance of the pandas Dataframes\n",
        "def blurry(s):\n",
        "    return 'color: transparent; text-shadow: 0 0 5px rgba(0,0,0,0.5)'\n",
        "\n",
        "data.head().style.applymap(blurry)"
      ],
      "execution_count": 3,
      "outputs": [
        {
          "output_type": "execute_result",
          "data": {
            "text/html": [
              "<style  type=\"text/css\" >\n",
              "#T_376da646_4220_11ec_a811_0242ac1c0002row0_col0,#T_376da646_4220_11ec_a811_0242ac1c0002row0_col1,#T_376da646_4220_11ec_a811_0242ac1c0002row0_col2,#T_376da646_4220_11ec_a811_0242ac1c0002row0_col3,#T_376da646_4220_11ec_a811_0242ac1c0002row0_col4,#T_376da646_4220_11ec_a811_0242ac1c0002row0_col5,#T_376da646_4220_11ec_a811_0242ac1c0002row0_col6,#T_376da646_4220_11ec_a811_0242ac1c0002row1_col0,#T_376da646_4220_11ec_a811_0242ac1c0002row1_col1,#T_376da646_4220_11ec_a811_0242ac1c0002row1_col2,#T_376da646_4220_11ec_a811_0242ac1c0002row1_col3,#T_376da646_4220_11ec_a811_0242ac1c0002row1_col4,#T_376da646_4220_11ec_a811_0242ac1c0002row1_col5,#T_376da646_4220_11ec_a811_0242ac1c0002row1_col6,#T_376da646_4220_11ec_a811_0242ac1c0002row2_col0,#T_376da646_4220_11ec_a811_0242ac1c0002row2_col1,#T_376da646_4220_11ec_a811_0242ac1c0002row2_col2,#T_376da646_4220_11ec_a811_0242ac1c0002row2_col3,#T_376da646_4220_11ec_a811_0242ac1c0002row2_col4,#T_376da646_4220_11ec_a811_0242ac1c0002row2_col5,#T_376da646_4220_11ec_a811_0242ac1c0002row2_col6,#T_376da646_4220_11ec_a811_0242ac1c0002row3_col0,#T_376da646_4220_11ec_a811_0242ac1c0002row3_col1,#T_376da646_4220_11ec_a811_0242ac1c0002row3_col2,#T_376da646_4220_11ec_a811_0242ac1c0002row3_col3,#T_376da646_4220_11ec_a811_0242ac1c0002row3_col4,#T_376da646_4220_11ec_a811_0242ac1c0002row3_col5,#T_376da646_4220_11ec_a811_0242ac1c0002row3_col6,#T_376da646_4220_11ec_a811_0242ac1c0002row4_col0,#T_376da646_4220_11ec_a811_0242ac1c0002row4_col1,#T_376da646_4220_11ec_a811_0242ac1c0002row4_col2,#T_376da646_4220_11ec_a811_0242ac1c0002row4_col3,#T_376da646_4220_11ec_a811_0242ac1c0002row4_col4,#T_376da646_4220_11ec_a811_0242ac1c0002row4_col5,#T_376da646_4220_11ec_a811_0242ac1c0002row4_col6{\n",
              "            color:  transparent;\n",
              "             text-shadow:  0 0 5px rgba(0,0,0,0.5);\n",
              "        }</style><table id=\"T_376da646_4220_11ec_a811_0242ac1c0002\" class=\"dataframe\"><thead>    <tr>        <th class=\"blank level0\" ></th>        <th class=\"col_heading level0 col0\" >id</th>        <th class=\"col_heading level0 col1\" >channel</th>        <th class=\"col_heading level0 col2\" >text</th>        <th class=\"col_heading level0 col3\" >createdate</th>        <th class=\"col_heading level0 col4\" >impact</th>        <th class=\"col_heading level0 col5\" >query_name</th>        <th class=\"col_heading level0 col6\" >sentiment</th>    </tr></thead><tbody>\n",
              "                <tr>\n",
              "                        <th id=\"T_376da646_4220_11ec_a811_0242ac1c0002level0_row0\" class=\"row_heading level0 row0\" >0</th>\n",
              "                        <td id=\"T_376da646_4220_11ec_a811_0242ac1c0002row0_col0\" class=\"data row0 col0\" >1402218796425924611</td>\n",
              "                        <td id=\"T_376da646_4220_11ec_a811_0242ac1c0002row0_col1\" class=\"data row0 col1\" >twitter</td>\n",
              "                        <td id=\"T_376da646_4220_11ec_a811_0242ac1c0002row0_col2\" class=\"data row0 col2\" >RT @re_aiiii: H eurobank έβγαλε διαφήμιση ότι ανησυχεί για το δημογραφικό. Κάντε παιδιά ρε μλκες να τους χρωστάνε μια ζωή τι σας ζητάνε ...</td>\n",
              "                        <td id=\"T_376da646_4220_11ec_a811_0242ac1c0002row0_col3\" class=\"data row0 col3\" >2021-06-08 10:59:47.000</td>\n",
              "                        <td id=\"T_376da646_4220_11ec_a811_0242ac1c0002row0_col4\" class=\"data row0 col4\" >0.200000</td>\n",
              "                        <td id=\"T_376da646_4220_11ec_a811_0242ac1c0002row0_col5\" class=\"data row0 col5\" >Eurobank</td>\n",
              "                        <td id=\"T_376da646_4220_11ec_a811_0242ac1c0002row0_col6\" class=\"data row0 col6\" >negative</td>\n",
              "            </tr>\n",
              "            <tr>\n",
              "                        <th id=\"T_376da646_4220_11ec_a811_0242ac1c0002level0_row1\" class=\"row_heading level0 row1\" >1</th>\n",
              "                        <td id=\"T_376da646_4220_11ec_a811_0242ac1c0002row1_col0\" class=\"data row1 col0\" >1441689475105624067</td>\n",
              "                        <td id=\"T_376da646_4220_11ec_a811_0242ac1c0002row1_col1\" class=\"data row1 col1\" >twitter</td>\n",
              "                        <td id=\"T_376da646_4220_11ec_a811_0242ac1c0002row1_col2\" class=\"data row1 col2\" >RT @GTrapeziotis: Κανονικά ο Βαξεβάνης θα πρέπει να κάνει δωρεάν συνδρομή σε Μαξίμου-Πειραιώς, Documento έκδοση πλούσια-«σακούλα» με ηρεμηστικά, ντεπόν, κάτι… Ανάλγητος! #ΔΕΗ #κυβερνηση_Μητσοτακη #ποθεν_εσχες (για να μη ξεχνιόμαστε)</td>\n",
              "                        <td id=\"T_376da646_4220_11ec_a811_0242ac1c0002row1_col3\" class=\"data row1 col3\" >2021-09-25 09:02:10.000</td>\n",
              "                        <td id=\"T_376da646_4220_11ec_a811_0242ac1c0002row1_col4\" class=\"data row1 col4\" >0.100000</td>\n",
              "                        <td id=\"T_376da646_4220_11ec_a811_0242ac1c0002row1_col5\" class=\"data row1 col5\" >Piraeus Bank</td>\n",
              "                        <td id=\"T_376da646_4220_11ec_a811_0242ac1c0002row1_col6\" class=\"data row1 col6\" >neutral</td>\n",
              "            </tr>\n",
              "            <tr>\n",
              "                        <th id=\"T_376da646_4220_11ec_a811_0242ac1c0002level0_row2\" class=\"row_heading level0 row2\" >2</th>\n",
              "                        <td id=\"T_376da646_4220_11ec_a811_0242ac1c0002row2_col0\" class=\"data row2 col0\" >1415971011229634565</td>\n",
              "                        <td id=\"T_376da646_4220_11ec_a811_0242ac1c0002row2_col1\" class=\"data row2 col1\" >twitter</td>\n",
              "                        <td id=\"T_376da646_4220_11ec_a811_0242ac1c0002row2_col2\" class=\"data row2 col2\" >ΔΕΛΤΙΟ ΤΥΠΟΥ Συνάντηση μελών της ΚΟ του ΜέΡΑ25 με τον ΣΕΥΤΠΕ: Το ΜέΡΑ25 στηρίζει τον αγώνα των εργαζομένων στην τράπεζα Πειραιώς  Την Πέμπτη 15 Ιουλίου 2021 πραγματοποιήθηκε διαδικτυακή συνάντηση μελών της ΚΟ του ΜέΡΑ25 με αντιπροσωπεία του Συλλόγου  https://t.co/7plbtWlcRD https://t.co/jy8QUoX5ei</td>\n",
              "                        <td id=\"T_376da646_4220_11ec_a811_0242ac1c0002row2_col3\" class=\"data row2 col3\" >2021-07-16 09:46:11.000</td>\n",
              "                        <td id=\"T_376da646_4220_11ec_a811_0242ac1c0002row2_col4\" class=\"data row2 col4\" >0.070000</td>\n",
              "                        <td id=\"T_376da646_4220_11ec_a811_0242ac1c0002row2_col5\" class=\"data row2 col5\" >Piraeus Bank</td>\n",
              "                        <td id=\"T_376da646_4220_11ec_a811_0242ac1c0002row2_col6\" class=\"data row2 col6\" >negative</td>\n",
              "            </tr>\n",
              "            <tr>\n",
              "                        <th id=\"T_376da646_4220_11ec_a811_0242ac1c0002level0_row3\" class=\"row_heading level0 row3\" >3</th>\n",
              "                        <td id=\"T_376da646_4220_11ec_a811_0242ac1c0002row3_col0\" class=\"data row3 col0\" >1435188973878579202</td>\n",
              "                        <td id=\"T_376da646_4220_11ec_a811_0242ac1c0002row3_col1\" class=\"data row3 col1\" >twitter</td>\n",
              "                        <td id=\"T_376da646_4220_11ec_a811_0242ac1c0002row3_col2\" class=\"data row3 col2\" >Στις τράπεζες, οριακή άνοδο καταγράφουν Πειραιώς +0,10% και Εθνική +0,05% ενώ ήπια υποχωρουν Alpha Bank +0,45% και Eurobank -0,40%.</td>\n",
              "                        <td id=\"T_376da646_4220_11ec_a811_0242ac1c0002row3_col3\" class=\"data row3 col3\" >2021-09-07 10:31:30.000</td>\n",
              "                        <td id=\"T_376da646_4220_11ec_a811_0242ac1c0002row3_col4\" class=\"data row3 col4\" >0.300000</td>\n",
              "                        <td id=\"T_376da646_4220_11ec_a811_0242ac1c0002row3_col5\" class=\"data row3 col5\" >Alpha Bank</td>\n",
              "                        <td id=\"T_376da646_4220_11ec_a811_0242ac1c0002row3_col6\" class=\"data row3 col6\" >neutral</td>\n",
              "            </tr>\n",
              "            <tr>\n",
              "                        <th id=\"T_376da646_4220_11ec_a811_0242ac1c0002level0_row4\" class=\"row_heading level0 row4\" >4</th>\n",
              "                        <td id=\"T_376da646_4220_11ec_a811_0242ac1c0002row4_col0\" class=\"data row4 col0\" >1412508851467960320</td>\n",
              "                        <td id=\"T_376da646_4220_11ec_a811_0242ac1c0002row4_col1\" class=\"data row4 col1\" >twitter</td>\n",
              "                        <td id=\"T_376da646_4220_11ec_a811_0242ac1c0002row4_col2\" class=\"data row4 col2\" >RT @spigaro: Πρόεδρος στην Εθνική Τράπεζα ο Γκίκας Χαρδούβελης ο οποίος ως υπουργός \"έσπαγε\" τα εμβάσματα σε δεκαχίλιαρα για να βγάλει τα λεφτά του στο εξωτερικό και να ξεγελάει τα ελεγκτικά όργανα. Η αριστεία και η τιμιότητα επιβραβεύονται γνωστά αυτά 😜</td>\n",
              "                        <td id=\"T_376da646_4220_11ec_a811_0242ac1c0002row4_col3\" class=\"data row4 col3\" >2021-07-06 20:28:47.000</td>\n",
              "                        <td id=\"T_376da646_4220_11ec_a811_0242ac1c0002row4_col4\" class=\"data row4 col4\" >0.130000</td>\n",
              "                        <td id=\"T_376da646_4220_11ec_a811_0242ac1c0002row4_col5\" class=\"data row4 col5\" >Ethniki Trapeza</td>\n",
              "                        <td id=\"T_376da646_4220_11ec_a811_0242ac1c0002row4_col6\" class=\"data row4 col6\" >negative</td>\n",
              "            </tr>\n",
              "    </tbody></table>"
            ],
            "text/plain": [
              "<pandas.io.formats.style.Styler at 0x7f94eee46d50>"
            ]
          },
          "metadata": {},
          "execution_count": 3
        }
      ]
    },
    {
      "cell_type": "markdown",
      "metadata": {
        "id": "0NOVXgWDqVPq"
      },
      "source": [
        "The data is : \n",
        "\n",
        "*   **id** : the index of the tweet. It does not provide a special information for the classification process that is why this column will be left out. \n",
        "*   **channel** : the source of the text phrase. All the texts are tweets (come from Twitter) so this column does not hold special information (will be left out).\n",
        "*   **text** : the text phrase of a tweet. The main \"x-value\" of our classification problem. \n",
        "*   **createdate** : datetime variable at the format \"Year-Month-Day Hour-Minutes-Seconds\" .\n",
        "*   **impact** : a numeric variable that takes values from 0 to 1 .\n",
        "*   **query_name** : the bank name that each tweet refers to. \n",
        "*   **sentiment** : the sentiment of the tweet, the \"y-value\" of the classification problem, the variable that we want to predict.\n",
        "\n"
      ]
    },
    {
      "cell_type": "code",
      "metadata": {
        "colab": {
          "base_uri": "https://localhost:8080/",
          "height": 295
        },
        "id": "KV5rN5jSWLuf",
        "outputId": "aa1da52f-372e-412e-c255-ef859e2078b4"
      },
      "source": [
        "# histogram of the possible sentiments (the y-value)\n",
        "\n",
        "plt.figure(figsize=(6,4))\n",
        "plt.hist(data['sentiment'])\n",
        "plt.title('Distribution of Sentiment Labels')\n",
        "plt.xlabel('Sentiments')\n",
        "plt.ylabel('Number of examples per sentiment')\n",
        "plt.show()"
      ],
      "execution_count": 4,
      "outputs": [
        {
          "output_type": "display_data",
          "data": {
            "image/png": "[encoded data removed]",
            "text/plain": [
              "<Figure size 432x288 with 1 Axes>"
            ]
          },
          "metadata": {
            "needs_background": "light"
          }
        }
      ]
    },
    {
      "cell_type": "code",
      "metadata": {
        "colab": {
          "base_uri": "https://localhost:8080/"
        },
        "id": "t2FWAVpzYnu0",
        "outputId": "0908f2fc-8703-4719-cc7f-2e75809d93dc"
      },
      "source": [
        "# get the exact number of each category\n",
        "Counter(data['sentiment'])"
      ],
      "execution_count": 5,
      "outputs": [
        {
          "output_type": "execute_result",
          "data": {
            "text/plain": [
              "Counter({'negative': 2533, 'neutral': 2425, 'positive': 42})"
            ]
          },
          "metadata": {},
          "execution_count": 5
        }
      ]
    },
    {
      "cell_type": "markdown",
      "metadata": {
        "id": "ebvy23VvY3Rv"
      },
      "source": [
        "As we see the sentiment variable of the dataset is quite unbalnced. Having only 42 examples of the category 'Positive' when the other 2 have over 2000 . That is a problem that needs special treatment.\n"
      ]
    },
    {
      "cell_type": "code",
      "metadata": {
        "colab": {
          "base_uri": "https://localhost:8080/",
          "height": 295
        },
        "id": "q7ilyQN2WU9h",
        "outputId": "7bbc81d2-b130-4b0c-8cda-65670a04a24d"
      },
      "source": [
        "# histogram of the possible Banks the tweets are reffered to\n",
        "\n",
        "plt.figure(figsize=(6,4))\n",
        "plt.hist(data['query_name'])\n",
        "plt.title('Distribution of Reffered Banks')\n",
        "plt.xlabel('Bank Names')\n",
        "plt.ylabel('Number of examples per Bank')\n",
        "plt.show()"
      ],
      "execution_count": 6,
      "outputs": [
        {
          "output_type": "display_data",
          "data": {
            "image/png": "[encoded data removed]",
            "text/plain": [
              "<Figure size 432x288 with 1 Axes>"
            ]
          },
          "metadata": {
            "needs_background": "light"
          }
        }
      ]
    },
    {
      "cell_type": "markdown",
      "metadata": {
        "id": "fylqBRdww4Zp"
      },
      "source": [
        "## Get an insight of the dataset"
      ]
    },
    {
      "cell_type": "markdown",
      "metadata": {
        "id": "55vF1WWfw83R"
      },
      "source": [
        "The dataset seems quite interesting and easy to extract information.\n",
        "Here I will try to answer some questions, like :\n",
        "\n",
        "*   Which was the month with the most negative sentiment ? \n",
        "*   Which was the bank with the most negative tweets at the above month ? \n",
        "* Any other correlation between the data ? \n",
        "\n"
      ]
    },
    {
      "cell_type": "code",
      "metadata": {
        "id": "hOouRQNgXGF-",
        "colab": {
          "base_uri": "https://localhost:8080/",
          "height": 296
        },
        "outputId": "7a856595-7c88-436a-f1d0-cbb96912e062"
      },
      "source": [
        "# read only the day , not the time of the 'createdate' column\n",
        "dates = [date.split(\" \")[0] for date in data['createdate']]\n",
        "# parse the 'Month' of each tweet\n",
        "months = [datetime.datetime.strptime(month, \"%Y-%m-%d\").month for month in dates]\n",
        "# make a heatmap\n",
        "sns.heatmap(pd.crosstab(pd.Series(months, name='Month Number'),\n",
        "                        pd.Series(list(data['sentiment']), name='Sentiment')), annot=True,fmt=\".1f\")"
      ],
      "execution_count": 7,
      "outputs": [
        {
          "output_type": "execute_result",
          "data": {
            "text/plain": [
              "<matplotlib.axes._subplots.AxesSubplot at 0x7f94eec9a690>"
            ]
          },
          "metadata": {},
          "execution_count": 7
        },
        {
          "output_type": "display_data",
          "data": {
            "image/png": "[encoded data removed]",
            "text/plain": [
              "<Figure size 432x288 with 2 Axes>"
            ]
          },
          "metadata": {
            "needs_background": "light"
          }
        }
      ]
    },
    {
      "cell_type": "code",
      "metadata": {
        "colab": {
          "base_uri": "https://localhost:8080/",
          "height": 350
        },
        "id": "RB3ky3F8nDpO",
        "outputId": "80b2ef74-66c2-4e35-e940-bf624fa012eb"
      },
      "source": [
        "# append the Months to the dataframe\n",
        "data['Month'] = months\n",
        "# get the data that refer to month with the most negative sentiment (7)\n",
        "most_negative_month_data = data[data['Month'] == 7]\n",
        "bank_most_negative_month_data = most_negative_month_data[most_negative_month_data['sentiment'] == 'negative']\n",
        "\n",
        "plt.figure(figsize=(7,5))\n",
        "plt.hist(bank_most_negative_month_data['query_name'])\n",
        "plt.title('Distribution of Reffered Banks at the Month with the most negative sentiment tweets')\n",
        "plt.xlabel('Bank Names')\n",
        "plt.ylabel('Number of examples per Bank')\n",
        "plt.show()\n",
        "plt.show()"
      ],
      "execution_count": 8,
      "outputs": [
        {
          "output_type": "display_data",
          "data": {
            "image/png": "[encoded data removed]",
            "text/plain": [
              "<Figure size 504x360 with 1 Axes>"
            ]
          },
          "metadata": {
            "needs_background": "light"
          }
        }
      ]
    },
    {
      "cell_type": "code",
      "metadata": {
        "id": "iDofHLdtnHOq",
        "colab": {
          "base_uri": "https://localhost:8080/",
          "height": 296
        },
        "outputId": "cbfab534-2a98-4975-d95f-7c10607da92e"
      },
      "source": [
        "# additional correlation betweenthe data\n",
        "# correlation between the banks and the sentiment\n",
        "sns.heatmap(pd.crosstab(pd.Series(list(data['query_name']), name='Banks'),\n",
        "                        pd.Series(list(data['sentiment']), name='Sentiment')), annot=True,fmt=\".1f\")"
      ],
      "execution_count": 9,
      "outputs": [
        {
          "output_type": "execute_result",
          "data": {
            "text/plain": [
              "<matplotlib.axes._subplots.AxesSubplot at 0x7f94eec0da10>"
            ]
          },
          "metadata": {},
          "execution_count": 9
        },
        {
          "output_type": "display_data",
          "data": {
            "image/png": "[encoded data removed]",
            "text/plain": [
              "<Figure size 432x288 with 2 Axes>"
            ]
          },
          "metadata": {
            "needs_background": "light"
          }
        }
      ]
    },
    {
      "cell_type": "code",
      "metadata": {
        "colab": {
          "base_uri": "https://localhost:8080/"
        },
        "id": "nVW3XUE92CaH",
        "outputId": "7d4e013f-08c5-4d3d-debe-60404ec20ff0"
      },
      "source": [
        "# correlation of the banks with the impact variable\n",
        "data['query_name'].astype('category').cat.codes.corr(data['impact'])\n",
        "# almost 0 -> possibly does not hold a great insight if we wanted to predict the bank names"
      ],
      "execution_count": 10,
      "outputs": [
        {
          "output_type": "execute_result",
          "data": {
            "text/plain": [
              "-0.048679790244432836"
            ]
          },
          "metadata": {},
          "execution_count": 10
        }
      ]
    },
    {
      "cell_type": "code",
      "metadata": {
        "colab": {
          "base_uri": "https://localhost:8080/",
          "height": 285
        },
        "id": "LPBd5O-40nDM",
        "outputId": "6c7067a5-5a9d-4026-e4af-c7b10ea450b5"
      },
      "source": [
        "# correlation and scatter plot of the sentiment with the impact varible\n",
        "print(data['sentiment'].astype('category').cat.codes.corr(data['impact']))\n",
        "# different from zero -> the classification results may be better if we include this variable too\n",
        "\n",
        "plt.scatter(x = data['sentiment'], y = data['impact'])\n",
        "plt.show()"
      ],
      "execution_count": 11,
      "outputs": [
        {
          "output_type": "stream",
          "name": "stdout",
          "text": [
            "0.32434233334213525\n"
          ]
        },
        {
          "output_type": "display_data",
          "data": {
            "image/png": "[encoded data removed]",
            "text/plain": [
              "<Figure size 432x288 with 1 Axes>"
            ]
          },
          "metadata": {
            "needs_background": "light"
          }
        }
      ]
    },
    {
      "cell_type": "markdown",
      "metadata": {
        "id": "kcdKfEFUIYVP"
      },
      "source": [
        "## Final pre-processing of the data"
      ]
    },
    {
      "cell_type": "code",
      "metadata": {
        "id": "cQ9REAIrpNab"
      },
      "source": [
        "# convert the string variables to numerical in order to be inserted to the classifier\n",
        "data['query_number'] = data['query_name'].astype('category')\n",
        "data['query_number'] = data['query_number'].cat.codes"
      ],
      "execution_count": 12,
      "outputs": []
    },
    {
      "cell_type": "markdown",
      "metadata": {
        "id": "9QREtRRW9Qd-"
      },
      "source": [
        "Since the dataset is unbalnced and I want to find a quick solution, I am going to **left out** the examples of the **'Positive' sentiment** category in order to **simplify the problem**. \n",
        "\n",
        "Someone else could apply oversampling over the 'Positive' category at the train subset only in order to increase the examples of the 'Positive' category. \n",
        "\n",
        "In the case that the dataset had more examples but with the same unbalance as here, someone could apply indersampling over the 2 other categories ('Negative' and 'Neutral') over the training subset only. "
      ]
    },
    {
      "cell_type": "code",
      "metadata": {
        "id": "70egqWU59RHv"
      },
      "source": [
        "# drop the unnecessary data\n",
        "# if you still prefer to hold the 'positive' category just omit the command-line below \n",
        "# (and also re-define the calculation of f1 score )\n",
        "data.drop(data[data['sentiment'] == 'positive'].index, inplace=True)\n",
        "\n",
        "# these 2 columns do not hold information\n",
        "data = data.drop(labels=['id','channel'], axis=1)"
      ],
      "execution_count": 13,
      "outputs": []
    },
    {
      "cell_type": "code",
      "metadata": {
        "id": "O_9iqnyxuP96"
      },
      "source": [
        "y_data = data['sentiment']\n",
        "x_data = data.drop(['sentiment'], axis=1)\n",
        "\n",
        "# split the dataset to train, development and test subsets\n",
        "x_nontest, x_test, y_nontest, y_test = train_test_split(x_data, y_data, random_state= 3, test_size=0.15)\n",
        "x_train, x_dev, y_train, y_dev = train_test_split(x_nontest, y_nontest, random_state= 3, test_size=0.2)\n"
      ],
      "execution_count": 14,
      "outputs": []
    },
    {
      "cell_type": "code",
      "metadata": {
        "id": "_K2o_OQTAnug"
      },
      "source": [
        "# define a function that concatenates the tfidf matrix with another column of the dataset\n",
        "\n",
        "def matrix_plus_variables(matrix,variable_data):\n",
        "  matrix_array = matrix.toarray()\n",
        "  output = []\n",
        "  for i in range(len(variable_data)):\n",
        "    output.append(np.append(matrix_array[i],variable_data[i]))\n",
        "  return sparse.csr_matrix(output)"
      ],
      "execution_count": 15,
      "outputs": []
    },
    {
      "cell_type": "markdown",
      "metadata": {
        "id": "Ku6ylBOWIe9z"
      },
      "source": [
        "## Hyper-parameter tuning"
      ]
    },
    {
      "cell_type": "code",
      "metadata": {
        "id": "9SqlMMGju5xE"
      },
      "source": [
        "# define the hyperparameter of the problem \n",
        "ngram_range = [1,2]\n",
        "max_features = [100,500]\n",
        "max_tf = [0.75,0.9]\n",
        "min_tf = [5,10]\n",
        "regularization_strength = [1, 0.1, 0.01, 0.001]"
      ],
      "execution_count": 16,
      "outputs": []
    },
    {
      "cell_type": "code",
      "metadata": {
        "id": "rxT2Rnovu5z5"
      },
      "source": [
        "accuracies, f_scores = [], []\n",
        "best_ac , best_f1 = 0,0\n",
        "\n",
        "for a in ngram_range:\n",
        "  for b in max_features:\n",
        "    for c in max_tf:\n",
        "      for d in min_tf:\n",
        "        # turn text to tfidf embeddings\n",
        "        vectorizer = TfidfVectorizer(ngram_range=(1, a), max_features = b, max_df= c, min_df= d)\n",
        "        xtrain_tfidf = vectorizer.fit_transform(x_train['text'])\n",
        "        xdev_tfidf = vectorizer.transform(x_dev['text'])\n",
        "        # concatenate the 'bank name' variable to the future input of the classifier \n",
        "        x_train_data = matrix_plus_variables(xtrain_tfidf,list(x_train['query_number']))        \n",
        "        x_dev_data = matrix_plus_variables(xdev_tfidf,list(x_dev['query_number']))\n",
        "        # concatenate the 'impact' variable to the future input of the classifier\n",
        "        x_train_data = matrix_plus_variables(x_train_data,list(x_train['impact']))        \n",
        "        x_dev_data = matrix_plus_variables(x_dev_data,list(x_dev['impact']))\n",
        "\n",
        "        # define the classifier\n",
        "        for e in regularization_strength:\n",
        "          logistic = LogisticRegression(C=e)\n",
        "          logistic.fit(x_train_data, y_train)\n",
        "          predictions = logistic.predict(x_dev_data)\n",
        "\n",
        "          # calculate the scores\n",
        "          ac = accuracy_score(y_dev, predictions)\n",
        "          accuracies.append(ac)\n",
        "          f1 = f1_score(y_dev,predictions, pos_label='negative')\n",
        "          f_scores.append(f1)\n",
        "\n",
        "          # hold the best scoring parameters\n",
        "          if ac > best_ac:\n",
        "            best_ac = ac\n",
        "            ac_ngram, ac_maxfeatures, ac_maxtf, ac_mintf, ac_regularization = a,b,c,d,e\n",
        "          if f1 > best_f1:\n",
        "            best_f1 = f1\n",
        "            f1_ngram, f1_maxfeatures, f1_maxtf, f1_mintf, f1_regularization = a,b,c,d,e            "
      ],
      "execution_count": 17,
      "outputs": []
    },
    {
      "cell_type": "code",
      "metadata": {
        "colab": {
          "base_uri": "https://localhost:8080/"
        },
        "id": "XSLTeJ9mGL1t",
        "outputId": "9ce15a9a-3945-476d-ecb2-594ffab8dc05"
      },
      "source": [
        "# print the highest scoring parameters\n",
        "for i in [ac_ngram, ac_maxfeatures, ac_maxtf, ac_mintf, ac_regularization]:\n",
        "  print(i)\n",
        "print(\"Best accuracy at hyperparameter tuning = \", best_ac)\n",
        "print()\n",
        "print()\n",
        "\n",
        "for i in [f1_ngram, f1_maxfeatures, f1_maxtf, f1_mintf, f1_regularization]:\n",
        "  print(i)\n",
        "print(\"Best F1 score at hyperparameter tuning = \", best_f1)"
      ],
      "execution_count": 18,
      "outputs": [
        {
          "output_type": "stream",
          "name": "stdout",
          "text": [
            "1\n",
            "500\n",
            "0.75\n",
            "5\n",
            "1\n",
            "Best accuracy at hyperparameter tuning =  0.8766310794780545\n",
            "\n",
            "\n",
            "1\n",
            "500\n",
            "0.75\n",
            "5\n",
            "1\n",
            "Best F1 score at hyperparameter tuning =  0.8902953586497891\n"
          ]
        }
      ]
    },
    {
      "cell_type": "markdown",
      "metadata": {
        "id": "--SXef8tIkT2"
      },
      "source": [
        "## Final Model"
      ]
    },
    {
      "cell_type": "code",
      "metadata": {
        "id": "3-W7ro5B-7Td",
        "colab": {
          "base_uri": "https://localhost:8080/"
        },
        "outputId": "72ee5baf-80ec-4cc7-844e-0a7373c40cc3"
      },
      "source": [
        "# highest scoring accuracy model\n",
        "# follow the same process as in the hyperparameter tuning\n",
        "\n",
        "ac_vectorizer = TfidfVectorizer(ngram_range=(1, ac_ngram), max_features = ac_maxfeatures,\n",
        "                                max_df= ac_maxtf, min_df= ac_mintf)\n",
        "xnontest_tfidf = ac_vectorizer.fit_transform(x_nontest['text'])\n",
        "xtest_tfidf = ac_vectorizer.transform(x_test['text'])\n",
        "x_nontest_data = matrix_plus_variables(xnontest_tfidf,list(x_nontest['query_number']))        \n",
        "x_test_data = matrix_plus_variables(xtest_tfidf,list(x_test['query_number']))\n",
        "x_nontest_data = matrix_plus_variables(x_nontest_data,list(x_nontest['impact']))        \n",
        "x_test_data = matrix_plus_variables(x_test_data,list(x_test['impact']))\n",
        "\n",
        "ac_logistic = LogisticRegression(C = ac_regularization)\n",
        "ac_logistic.fit(x_nontest_data, y_nontest)\n",
        "ac_predictions = ac_logistic.predict(x_test_data)\n",
        "\n",
        "final_ac = accuracy_score(y_test, ac_predictions)\n",
        "print(\"Final Accuracy = \", final_ac)\n",
        "final_f1 = f1_score(y_test, ac_predictions, pos_label=\"negative\")\n",
        "print(\"Final F1 score = \", final_f1)"
      ],
      "execution_count": 19,
      "outputs": [
        {
          "output_type": "stream",
          "name": "stdout",
          "text": [
            "Final Accuracy =  0.8669354838709677\n",
            "Final F1 score =  0.8656716417910447\n"
          ]
        }
      ]
    },
    {
      "cell_type": "code",
      "metadata": {
        "colab": {
          "base_uri": "https://localhost:8080/",
          "height": 296
        },
        "id": "V4R7WqNUroQc",
        "outputId": "f2a72450-1b43-4838-eb84-8eb77848a842"
      },
      "source": [
        "# a heatmap of the true - predicted values\n",
        "sns.heatmap(pd.crosstab(pd.Series(ac_predictions, name='Predictions'),\n",
        "                        pd.Series(list(y_test), name='Truth')), annot=True,fmt=\".1f\")"
      ],
      "execution_count": 20,
      "outputs": [
        {
          "output_type": "execute_result",
          "data": {
            "text/plain": [
              "<matplotlib.axes._subplots.AxesSubplot at 0x7f94eeb87550>"
            ]
          },
          "metadata": {},
          "execution_count": 20
        },
        {
          "output_type": "display_data",
          "data": {
            "image/png": "[encoded data removed]",
            "text/plain": [
              "<Figure size 432x288 with 2 Axes>"
            ]
          },
          "metadata": {
            "needs_background": "light"
          }
        }
      ]
    },
    {
      "cell_type": "markdown",
      "metadata": {
        "id": "GgCuOUuVM_Km"
      },
      "source": [
        "# Additional information regarding TF-IDF scores of the dataset"
      ]
    },
    {
      "cell_type": "markdown",
      "metadata": {
        "id": "bSAsCww5tWru"
      },
      "source": [
        "Try to find the top N n-grams (unigrams, bigrams, trigrams) according to tf-idf scores"
      ]
    },
    {
      "cell_type": "code",
      "metadata": {
        "id": "v3-HPsdHr4YV"
      },
      "source": [
        "data = pd.read_json('/content/palo_assignment.json', lines =True)\n",
        "\n",
        "def get_top_ngrams(ngram_range = 1 , top_n = 20, text = data['text']):\n",
        "  tfidf_vectorizer = TfidfVectorizer(ngram_range=(ngram_range, ngram_range), min_df=10) # keep fewer features\n",
        "  # get the ngrams to array matrix\n",
        "  ngrams = tfidf_vectorizer.fit_transform(text).toarray()\n",
        "  # get the name of the features\n",
        "  feature_names = tfidf_vectorizer.get_feature_names()\n",
        "  # make a dataframe with the tfidf score of each feature for each example\n",
        "  tfidf_data = pd.DataFrame(ngrams, columns = feature_names)\n",
        "  # sort the above dataframe\n",
        "  sorted_tfidf_dataframe = pd.DataFrame(np.sort(tfidf_data.values, axis=0), index=tfidf_data.index, columns=tfidf_data.columns)\n",
        "  # keep the highest scoring line\n",
        "  top_tfidf_score = sorted_tfidf_dataframe.tail(1)\n",
        "  # get the indices of the highest tfidf scoring words\n",
        "  top_n_indices = np.argsort(top_tfidf_score.values)[0]\n",
        "  top_n_values = []\n",
        "  # locate the words and the tfidf score\n",
        "  for i in top_n_indices[-top_n:]:\n",
        "    top_n_values.append(top_tfidf_score.iloc[:,i])\n",
        "  return top_n_values"
      ],
      "execution_count": 21,
      "outputs": []
    },
    {
      "cell_type": "code",
      "metadata": {
        "colab": {
          "base_uri": "https://localhost:8080/"
        },
        "id": "uCL6IitVndO-",
        "outputId": "b65f7437-24af-4e55-a579-7a46b4fea1e8"
      },
      "source": [
        "# for 1-gram , top 20\n",
        "answer1 = get_top_ngrams(ngram_range=1,top_n=20)\n",
        "answer1.reverse()\n",
        "for i in answer1:\n",
        "  print(i.values, \"\\t\", i.name)"
      ],
      "execution_count": 22,
      "outputs": [
        {
          "output_type": "stream",
          "name": "stdout",
          "text": [
            "[1.] \t γιουρομπανκ\n",
            "[0.9337178] \t μπράβο\n",
            "[0.90696468] \t λογαριασμού\n",
            "[0.89080486] \t αε\n",
            "[0.87115022] \t συμβούλου\n",
            "[0.866515] \t ολοκληρώθηκε\n",
            "[0.86578127] \t καμια\n",
            "[0.84679569] \t στους\n",
            "[0.8440475] \t ειναι\n",
            "[0.83693654] \t ούτε\n",
            "[0.83616512] \t ρυθμό\n",
            "[0.83326651] \t εχω\n",
            "[0.829316] \t thepressproject\n",
            "[0.82558478] \t δανεια\n",
            "[0.82289901] \t stress\n",
            "[0.82098118] \t συστήματος\n",
            "[0.8169416] \t alpha_bank\n",
            "[0.81619749] \t μετοχή\n",
            "[0.81201992] \t piraeus_bank\n",
            "[0.81145166] \t ημέρα\n"
          ]
        }
      ]
    },
    {
      "cell_type": "code",
      "metadata": {
        "colab": {
          "base_uri": "https://localhost:8080/"
        },
        "id": "wQjjVqneeOFH",
        "outputId": "e9d6a84e-e4b8-4b93-9a9a-f6b9cbf59db2"
      },
      "source": [
        "# for 2-grams , top 10\n",
        "answer2 = get_top_ngrams(ngram_range=2,top_n=10)\n",
        "answer2.reverse()\n",
        "for i in answer2:\n",
        "  print(i.values, \"\\t\", i.name)"
      ],
      "execution_count": 23,
      "outputs": [
        {
          "output_type": "stream",
          "name": "stdout",
          "text": [
            "[1.] \t και στο\n",
            "[1.] \t αλλά να\n",
            "[1.] \t για το\n",
            "[1.] \t για τις\n",
            "[1.] \t για την\n",
            "[1.] \t της alpha\n",
            "[1.] \t για τα\n",
            "[1.] \t για να\n",
            "[1.] \t για εξωσωματική\n",
            "[1.] \t και το\n"
          ]
        }
      ]
    },
    {
      "cell_type": "code",
      "metadata": {
        "colab": {
          "base_uri": "https://localhost:8080/"
        },
        "id": "SCFhiWK-oOIu",
        "outputId": "c93e57c6-dc79-41b3-af2a-3bac7535fcc0"
      },
      "source": [
        "# for 3-grams , top 10\n",
        "answer3 = get_top_ngrams(ngram_range=3,top_n=10)\n",
        "answer3.reverse()\n",
        "for i in answer3:\n",
        "  print(i.values, \"\\t\", i.name)"
      ],
      "execution_count": 24,
      "outputs": [
        {
          "output_type": "stream",
          "name": "stdout",
          "text": [
            "[1.] \t λογαριασμούς https co\n",
            "[1.] \t από την piraeus_bank\n",
            "[1.] \t από εθνική τράπεζα\n",
            "[1.] \t σύμφωνα με το\n",
            "[1.] \t αμκ https co\n",
            "[1.] \t τα λεφτά μου\n",
            "[1.] \t τα λεφτά της\n",
            "[1.] \t τα λεφτά του\n",
            "[1.] \t τα χρέη του\n",
            "[1.] \t την alpha bank\n"
          ]
        }
      ]
    },
    {
      "cell_type": "markdown",
      "metadata": {
        "id": "NoPj2GvLNOSB"
      },
      "source": [
        "# Conclusion"
      ]
    },
    {
      "cell_type": "markdown",
      "metadata": {
        "id": "uF4g2TQvq2tJ"
      },
      "source": [
        "## Summary"
      ]
    },
    {
      "cell_type": "markdown",
      "metadata": {
        "id": "4jpIeTz4qr0H"
      },
      "source": [
        "In order to complete the task above I worked 5 hours, wanting to keep the workload at the levels of a single working day.\n",
        "\n",
        "The process I followed :\n",
        "\n",
        "*   Take a look at the dataset and get a quick insight of it \n",
        "*   Decide the variables I will include to the classification process\n",
        "*   Build (tune and train) a classifier\n",
        "\n"
      ]
    },
    {
      "cell_type": "markdown",
      "metadata": {
        "id": "8ypCMeB7ripn"
      },
      "source": [
        "It is obvious that the results are promising and have margins for improvement."
      ]
    },
    {
      "cell_type": "markdown",
      "metadata": {
        "id": "VhGSREJJrgIe"
      },
      "source": [
        "## Future Work\n"
      ]
    },
    {
      "cell_type": "markdown",
      "metadata": {
        "id": "csbLRd5muyOo"
      },
      "source": [
        "The most promising ways to improve this classifier are:    \n",
        "\n",
        "*   Insert the datetime variable to the problem. The hour that each tweet is posted may hold information about the sentiment.\n",
        "*   Keep the 'positive' category and apply oversampling at the train set of the task.\n",
        "*   Exclude stopwords of the text while applying the Tf-Idf vectorizer.\n",
        "*   Make more extensive hyper-paramter tuning.\n",
        "*   Try more complex classifiers, like a MLP. \n",
        "\n",
        "\n",
        "---\n",
        "\n",
        "I hope you find this script understandable and funny to read. \n",
        "\n"
      ]
    }
  ]
}